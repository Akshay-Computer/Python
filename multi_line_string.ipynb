{
 "cells": [
  {
   "cell_type": "code",
   "execution_count": 12,
   "id": "cc5b773f-3331-40fe-ada4-da7cca4c3b61",
   "metadata": {},
   "outputs": [
    {
     "name": "stdout",
     "output_type": "stream",
     "text": [
      "Hello World.\n",
      "This is python program.\n",
      "My second task.\n"
     ]
    }
   ],
   "source": [
    "print(\"\"\"Hello World.\n",
    "This is python program.\n",
    "My second task.\"\"\")"
   ]
  },
  {
   "cell_type": "code",
   "execution_count": 18,
   "id": "a30bdee8-b3f9-432e-82a4-c0d328a8c9d2",
   "metadata": {},
   "outputs": [
    {
     "name": "stdout",
     "output_type": "stream",
     "text": [
      "Hello World. \n",
      "This is python program \n",
      "My second task\n"
     ]
    }
   ],
   "source": [
    "print(\"Hello World. \\n\" + \"This is python program \\n\" + \"My second task\")"
   ]
  },
  {
   "cell_type": "code",
   "execution_count": 21,
   "id": "44737b08-9799-40b6-9a3c-1a606f2b44de",
   "metadata": {},
   "outputs": [
    {
     "name": "stdout",
     "output_type": "stream",
     "text": [
      "Akshay kumar \n",
      "Akshay kumar \n",
      "Akshay kumar \n",
      "Akshay kumar \n",
      "Akshay kumar \n",
      "\n"
     ]
    }
   ],
   "source": [
    "print(\"Akshay kumar \\n\" * 5)"
   ]
  },
  {
   "cell_type": "code",
   "execution_count": null,
   "id": "a0d41a69-5c77-4b12-abc0-0f00353e62d4",
   "metadata": {},
   "outputs": [],
   "source": []
  }
 ],
 "metadata": {
  "kernelspec": {
   "display_name": "Python 3 (ipykernel)",
   "language": "python",
   "name": "python3"
  },
  "language_info": {
   "codemirror_mode": {
    "name": "ipython",
    "version": 3
   },
   "file_extension": ".py",
   "mimetype": "text/x-python",
   "name": "python",
   "nbconvert_exporter": "python",
   "pygments_lexer": "ipython3",
   "version": "3.13.1"
  }
 },
 "nbformat": 4,
 "nbformat_minor": 5
}
