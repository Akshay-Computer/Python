{
 "cells": [
  {
   "cell_type": "code",
   "execution_count": 11,
   "id": "0d439cac-b9b3-4075-a8c2-5379023d7393",
   "metadata": {},
   "outputs": [
    {
     "name": "stdin",
     "output_type": "stream",
     "text": [
      "What is your name? Akshay\n"
     ]
    },
    {
     "name": "stdout",
     "output_type": "stream",
     "text": [
      "Akshay\n"
     ]
    }
   ],
   "source": [
    "print(input(\"What is your name?\"))"
   ]
  },
  {
   "cell_type": "code",
   "execution_count": 13,
   "id": "0b0c6e22-289b-4113-88bd-550ea024cc46",
   "metadata": {},
   "outputs": [
    {
     "name": "stdout",
     "output_type": "stream",
     "text": [
      "Akshay Kumar\n",
      "Programmar\n"
     ]
    }
   ],
   "source": [
    "name = \"Akshay Kumar\"\n",
    "print(name)\n",
    "name = \"Programmar\"\n",
    "print(name)"
   ]
  },
  {
   "cell_type": "code",
   "execution_count": 23,
   "id": "71bd4f88-bb65-4630-9e4d-8edf868b1682",
   "metadata": {},
   "outputs": [
    {
     "name": "stdout",
     "output_type": "stream",
     "text": [
      "Hello Akshay you are a programmar\n"
     ]
    }
   ],
   "source": [
    "name = \"Akshay\"\n",
    "print (\"Hello\", name + \" you are a programmar\")"
   ]
  },
  {
   "cell_type": "code",
   "execution_count": 24,
   "id": "b70370b3-9e86-4d25-aeea-7c98220c6143",
   "metadata": {},
   "outputs": [
    {
     "name": "stdout",
     "output_type": "stream",
     "text": [
      "Welcome to episode 2\n"
     ]
    },
    {
     "name": "stdin",
     "output_type": "stream",
     "text": [
      "What is your name? Akshay\n"
     ]
    },
    {
     "name": "stdout",
     "output_type": "stream",
     "text": [
      "Akshay\n"
     ]
    }
   ],
   "source": [
    "print(\"Welcome to episode 2\")\n",
    "name = input(\"What is your name?\")\n",
    "print(name)"
   ]
  },
  {
   "cell_type": "code",
   "execution_count": 28,
   "id": "cf818393-cd43-4585-9158-e2cc72a73915",
   "metadata": {},
   "outputs": [
    {
     "name": "stdout",
     "output_type": "stream",
     "text": [
      "Welcome to episode 2\n"
     ]
    },
    {
     "name": "stdin",
     "output_type": "stream",
     "text": [
      "What is your name?\n",
      " Akshay Kumar\n"
     ]
    },
    {
     "name": "stdout",
     "output_type": "stream",
     "text": [
      "Hello Akshay Kumar, thank you for coming today\n"
     ]
    }
   ],
   "source": [
    "print(\"Welcome to episode 2\")\n",
    "name = input(\"What is your name?\\n\")\n",
    "print(\"Hello \" + name + \", thank you for coming today\")"
   ]
  },
  {
   "cell_type": "code",
   "execution_count": 47,
   "id": "e4c18695-b879-4ef6-ab46-e6fef9961388",
   "metadata": {},
   "outputs": [
    {
     "name": "stdout",
     "output_type": "stream",
     "text": [
      "Welcome to costa Coffee!!!!!!!\n"
     ]
    },
    {
     "name": "stdin",
     "output_type": "stream",
     "text": [
      "What is your name? Akshay Kumar\n"
     ]
    },
    {
     "name": "stdout",
     "output_type": "stream",
     "text": [
      "Hello Akshay Kumar Thank you so much for coming\n",
      "\n",
      "\n",
      "Akshay Kumar What would you like from our menu today? Here is what we are serving.\n",
      "Black Coffee, Hot Chocolate, Dark Chocolate , Latte\n"
     ]
    },
    {
     "name": "stdin",
     "output_type": "stream",
     "text": [
      " Black Coffee\n"
     ]
    },
    {
     "name": "stdout",
     "output_type": "stream",
     "text": [
      "Sounds good Akshay Kumar, we'll have that Black Coffee ready for you in a moment.\n"
     ]
    }
   ],
   "source": [
    "print(\"Welcome to costa Coffee!!!!!!!\")\n",
    "name = input(\"What is your name?\")\n",
    "print(\"Hello \"+ name + \" Thank you so much for coming\\n\\n\")\n",
    "menu = \"Black Coffee, Hot Chocolate, Dark Chocolate , Latte\"\n",
    "print(name, \"What would you like from our menu today? Here is what we are serving.\\n\"+ menu)\n",
    "order = input()\n",
    "print(\"Sounds good \" + name + \", we'll have that \" + order + \" ready for you in a moment.\")"
   ]
  },
  {
   "cell_type": "code",
   "execution_count": null,
   "id": "0bcffa30-de4d-4ef2-8391-2821f8304dea",
   "metadata": {},
   "outputs": [],
   "source": []
  }
 ],
 "metadata": {
  "kernelspec": {
   "display_name": "Python 3 (ipykernel)",
   "language": "python",
   "name": "python3"
  },
  "language_info": {
   "codemirror_mode": {
    "name": "ipython",
    "version": 3
   },
   "file_extension": ".py",
   "mimetype": "text/x-python",
   "name": "python",
   "nbconvert_exporter": "python",
   "pygments_lexer": "ipython3",
   "version": "3.13.1"
  }
 },
 "nbformat": 4,
 "nbformat_minor": 5
}
