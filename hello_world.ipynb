{
 "cells": [
  {
   "cell_type": "code",
   "execution_count": 1,
   "id": "eaa4f753-a166-4078-89b3-2f6411b25bb3",
   "metadata": {},
   "outputs": [
    {
     "name": "stdout",
     "output_type": "stream",
     "text": [
      "Hello World!!!!!\n"
     ]
    }
   ],
   "source": [
    "print(\"Hello World!!!!!\")"
   ]
  },
  {
   "cell_type": "code",
   "execution_count": 2,
   "id": "853c5434-f20a-49e3-bdae-2d553ae700a3",
   "metadata": {},
   "outputs": [
    {
     "name": "stdout",
     "output_type": "stream",
     "text": [
      "Episode one!!!!!\n"
     ]
    }
   ],
   "source": [
    "print(\"Episode one!!!!!\")"
   ]
  },
  {
   "cell_type": "code",
   "execution_count": 7,
   "id": "e3731497-04ba-43ac-9ace-2e21b0f4f3d5",
   "metadata": {},
   "outputs": [
    {
     "name": "stdout",
     "output_type": "stream",
     "text": [
      "I am a Akshay Kumar\n",
      "Hello World!!!\n",
      "She is beautiful\n"
     ]
    }
   ],
   "source": [
    "print('I am a Akshay Kumar')\n",
    "print(\"Hello World!!!\")\n",
    "print('This is interesting course')\n",
    "#I am practicing python"
   ]
  },
  {
   "cell_type": "code",
   "execution_count": null,
   "id": "15305f52-7e13-4b76-a579-3dc498bad23f",
   "metadata": {},
   "outputs": [],
   "source": []
  }
 ],
 "metadata": {
  "kernelspec": {
   "display_name": "Python 3 (ipykernel)",
   "language": "python",
   "name": "python3"
  },
  "language_info": {
   "codemirror_mode": {
    "name": "ipython",
    "version": 3
   },
   "file_extension": ".py",
   "mimetype": "text/x-python",
   "name": "python",
   "nbconvert_exporter": "python",
   "pygments_lexer": "ipython3",
   "version": "3.13.1"
  }
 },
 "nbformat": 4,
 "nbformat_minor": 5
}
