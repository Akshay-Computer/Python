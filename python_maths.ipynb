{
 "cells": [
  {
   "cell_type": "code",
   "execution_count": 5,
   "id": "899e0fac-e9ad-4a42-a809-afaf06c2ee62",
   "metadata": {},
   "outputs": [
    {
     "name": "stdout",
     "output_type": "stream",
     "text": [
      "Akshay Kumar\n",
      "24\n",
      "<class 'str'>\n",
      "<class 'int'>\n",
      "<class 'float'>\n"
     ]
    }
   ],
   "source": [
    "name = \"Akshay Kumar\"\n",
    "age = 24\n",
    "actual_age = 24.5 \n",
    "print(name)\n",
    "print(age)\n",
    "print(type(name))\n",
    "print(type(age))\n",
    "print(type(actual_age))"
   ]
  },
  {
   "cell_type": "code",
   "execution_count": 6,
   "id": "86c11e0c-0b1b-43be-b8bf-8e06630b6b20",
   "metadata": {},
   "outputs": [
    {
     "name": "stdout",
     "output_type": "stream",
     "text": [
      "15\n"
     ]
    }
   ],
   "source": [
    "print(5+10)"
   ]
  },
  {
   "cell_type": "code",
   "execution_count": 7,
   "id": "6ddcd7ac-f179-4d57-9a79-f2a1f1160e9b",
   "metadata": {},
   "outputs": [
    {
     "name": "stdout",
     "output_type": "stream",
     "text": [
      "-3\n"
     ]
    }
   ],
   "source": [
    "print(7-10)"
   ]
  },
  {
   "cell_type": "code",
   "execution_count": 8,
   "id": "72049df6-902d-4917-9123-8f497335af9b",
   "metadata": {},
   "outputs": [
    {
     "name": "stdout",
     "output_type": "stream",
     "text": [
      "0.5\n"
     ]
    }
   ],
   "source": [
    "print(5/10)"
   ]
  },
  {
   "cell_type": "code",
   "execution_count": 9,
   "id": "f0eee07c-3950-4c62-9072-45aa25cc88f2",
   "metadata": {},
   "outputs": [
    {
     "name": "stdout",
     "output_type": "stream",
     "text": [
      "50\n"
     ]
    }
   ],
   "source": [
    "print(5*10)"
   ]
  },
  {
   "cell_type": "code",
   "execution_count": 12,
   "id": "da93c858-ce30-471e-9615-2fd607e59449",
   "metadata": {},
   "outputs": [
    {
     "name": "stdout",
     "output_type": "stream",
     "text": [
      "100.1\n",
      "<class 'float'>\n"
     ]
    }
   ],
   "source": [
    "name = \"Akshay Kumar\"\n",
    "age = 24\n",
    "actual_age = 24.6\n",
    "maths = 3*10+45/2-1\n",
    "\n",
    "results = age+actual_age+maths\n",
    "print(results)\n",
    "\n",
    "print(type(results))"
   ]
  },
  {
   "cell_type": "code",
   "execution_count": null,
   "id": "80f687ed-83de-43e0-a56c-9f34707d44ac",
   "metadata": {},
   "outputs": [],
   "source": []
  }
 ],
 "metadata": {
  "kernelspec": {
   "display_name": "Python 3 (ipykernel)",
   "language": "python",
   "name": "python3"
  },
  "language_info": {
   "codemirror_mode": {
    "name": "ipython",
    "version": 3
   },
   "file_extension": ".py",
   "mimetype": "text/x-python",
   "name": "python",
   "nbconvert_exporter": "python",
   "pygments_lexer": "ipython3",
   "version": "3.13.1"
  }
 },
 "nbformat": 4,
 "nbformat_minor": 5
}
